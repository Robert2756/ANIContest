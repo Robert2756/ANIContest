{
 "cells": [
  {
   "cell_type": "markdown",
   "metadata": {},
   "source": [
    "Als erstes wird der Datensatz erstellt und geladen"
   ]
  },
  {
   "cell_type": "code",
   "execution_count": null,
   "metadata": {},
   "outputs": [],
   "source": [
    "import torch\n",
    "import numpy as np\n",
    "import pandas as pd\n",
    "\n",
    "import torch.nn as nn\n",
    "from MIFS import mutual_infxy\n",
    "from torch.utils.data import Dataset\n",
    "\n",
    "import torch.nn.functional as F\n",
    "\n",
    "path_input = \"./data/ANI_Training.Input\"\n",
    "path_target = \"./data/ANI_Training.Label\"\n",
    "\n",
    "class ContestDataset(Dataset):\n",
    "    def __init__(self, selected_channels):\n",
    "        df = pd.read_csv(path_input, header=None) # (3250, 250)\n",
    "        df_train = df.iloc[0:2900, :]\n",
    "        # print(\"df_train: \", np.array(df_train).shape)\n",
    "\n",
    "        target_train = pd.read_csv(path_target, header=None) # (3250, 1)\n",
    "        target_train = target_train.iloc[0:2900, :]\n",
    "        self.target = target_train\n",
    "\n",
    "        data = np.array(df_train.T) # (250,  3250)\n",
    "        data = data[selected_channels, ::]\n",
    "\n",
    "        # Normalize each feature separately\n",
    "        min_vals = np.min(data, axis=1, keepdims=True)\n",
    "        max_vals = np.max(data, axis=1, keepdims=True)\n",
    "        # print(\"min vals: \", min_vals)\n",
    "        # print(\"min vals: \", max_vals)\n",
    "\n",
    "        self.data = 2 * (data - min_vals) / (max_vals - min_vals) - 1\n",
    "\n",
    "        # for i, channel in enumerate(self.data):\n",
    "        #     print(i)\n",
    "        #     MI = mutual_infxy(np.array(channel), np.array(self.target))\n",
    "        #     print(MI)\n",
    "        # time.sleep(100)\n",
    "        \n",
    "    def __len__(self):\n",
    "        return self.data.shape[1] # number of examples in the dataset\n",
    "    \n",
    "    def __getitem__(self, idx):\n",
    "        data = self.data[:, idx]\n",
    "        target = self.target.iloc[idx, 0]\n",
    "        return torch.tensor(data, dtype=torch.float32), torch.tensor(target, dtype=torch.float32)"
   ]
  }
 ],
 "metadata": {
  "language_info": {
   "name": "python"
  }
 },
 "nbformat": 4,
 "nbformat_minor": 2
}
